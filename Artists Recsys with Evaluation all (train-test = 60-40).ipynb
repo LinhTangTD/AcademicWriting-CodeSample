{
 "cells": [
  {
   "cell_type": "markdown",
   "metadata": {},
   "source": [
    "# ABOUT\n",
    "\n",
    "Million Musical Tweets Dataset: http://www.cp.jku.at/datasets/MMTD/\n",
    "\n",
    "Music Brainz: https://musicbrainz.org/doc/MusicBrainz_Database/Download\n",
    "\n",
    "Number of unique artists: 24673\n",
    "\n",
    "Number of unique users: 214741\n",
    "\n",
    "Number of unique tweets: 1074713\n",
    "\n",
    "Number of unique tracks: 133228\n",
    "\n",
    "ALS Implicit Collaborative Filtering: https://medium.com/radon-dev/als-implicit-collaborative-filtering-5ed653ba39fe"
   ]
  },
  {
   "cell_type": "markdown",
   "metadata": {},
   "source": [
    "Artist Gender: \n",
    "1 = Male\n",
    "2 = Female\n",
    "3 = Group \n",
    "4 = Other \n",
    "5 = No Info\n",
    "\n",
    "Artist Type: \n",
    "1 = Person \n",
    "2 = Group\n",
    "3 = Other \n",
    "4 = Character \n",
    "5 = Choir \n",
    "6 = No Info"
   ]
  },
  {
   "cell_type": "code",
   "execution_count": 1,
   "metadata": {},
   "outputs": [],
   "source": [
    "import numpy as np\n",
    "import pandas as pd\n",
    "import scipy.sparse as sparse\n",
    "import random\n",
    "import math\n",
    "import implicit\n",
    "from sklearn.model_selection import train_test_split\n",
    "from sklearn.neighbors import KDTree\n",
    "from statistics import mean"
   ]
  },
  {
   "cell_type": "code",
   "execution_count": 2,
   "metadata": {},
   "outputs": [],
   "source": [
    "path = \"/Users/MAC/Desktop/MIP 2019/Code/\"\n",
    "data = pd.read_csv(path+\"data.csv\", header = 0, sep=',', low_memory=False)\n",
    "artist_gender = pd.read_csv(path+\"gender_bias.csv\", header = 0, sep=',')\n",
    "artist_type = pd.read_csv(path + \"artist_type.csv\", header = 0, sep=',')\n",
    "ttime = pd.read_csv(path+\"ttime.csv\", header = 0, sep=',')"
   ]
  },
  {
   "cell_type": "code",
   "execution_count": 3,
   "metadata": {},
   "outputs": [],
   "source": [
    "#----------------------------------\n",
    "# BUILDING 2D RECOMMENDER SYSTEM \n",
    "#----------------------------------\n",
    "alpha_val = 15\n",
    "users = list(np.sort(data.user_id.unique()))\n",
    "artists = list(data.artists_name.unique())\n",
    "songs = list(data.track_title.unique())\n",
    "\n",
    "data['usercatcode'] = data['user_id'].astype(\"category\").cat.codes\n",
    "data['artistcatcode'] = data['artist_id'].astype(\"category\").cat.codes\n",
    "data['ttime'] = data['tweet_time'].astype(\"category\").cat.codes\n",
    "data['songcatcode'] = data.track_title.astype('category', songs).cat.codes \n",
    "# Build train and test dataset\n",
    "train, test = train_test_split(data, test_size=0.4)"
   ]
  },
  {
   "cell_type": "code",
   "execution_count": 4,
   "metadata": {},
   "outputs": [
    {
     "name": "stderr",
     "output_type": "stream",
     "text": [
      "WARNING:root:Intel MKL BLAS detected. Its highly recommend to set the environment variable 'export MKL_NUM_THREADS=1' to disable its internal multithreading\n",
      "100%|██████████| 50.0/50 [00:28<00:00,  1.05s/it]\n"
     ]
    }
   ],
   "source": [
    "#----------------------------------\n",
    "# ARTISTS RECOMMENDATION MODEL \n",
    "#----------------------------------\n",
    "artist_train = train.groupby(['user_id', 'artists_name', 'artistcatcode', 'usercatcode'])['tweet_id'].count().reset_index(name='tweet_count')\n",
    "artist_data = data.groupby(['user_id', 'artists_name', 'artistcatcode', 'usercatcode'])['tweet_id'].count().reset_index(name='tweet_count')\n",
    "\n",
    "# Create sparse matrices\n",
    "sparse_artist_user = sparse.csr_matrix((artist_train['tweet_count'], (artist_train['artistcatcode'], artist_train['usercatcode'])))\n",
    "sparse_user_artist = sparse.csr_matrix((artist_data['tweet_count'], (artist_data['usercatcode'], artist_data['artistcatcode'])))\n",
    "\n",
    "# Calculate the confidence by multiplying it by our alpha value.\n",
    "userartist_conf = (sparse_artist_user * alpha_val).astype('double')\n",
    "\n",
    "# Initialize the als model_artist and fit it using the sparse artist-user matrix\n",
    "model_artist = implicit.als.AlternatingLeastSquares(factors=20, regularization=0.1, iterations=50)\n",
    "model_artist.fit(userartist_conf) \n",
    "\n",
    "# Caculate the sparsity of an item-user matrix\n",
    "def sparsity(matrix):\n",
    "    matrix_size = matrix.shape[0]*matrix.shape[1] # Number of possible interactions in the matrix\n",
    "    num_purchases = len(matrix.nonzero()[0]) # Number of items interacted with\n",
    "    sparsity = 100*(1 - (num_purchases/matrix_size))\n",
    "    return sparsity"
   ]
  },
  {
   "cell_type": "code",
   "execution_count": 5,
   "metadata": {},
   "outputs": [],
   "source": [
    "train_neighbor = pd.merge(train, ttime, on='user_id').drop(['tweet_id', 'track_id', 'track_title', 'artist_id', 'artists_name', 'artist_type', 'artist_area', 'artist_gender','tweet_month', 'tweet_year', 'tweet_time', 'tweet_day', 'usercatcode','artistcatcode', 'ttime', 'songcatcode', 'Total'], 1).drop_duplicates().set_index('user_id')\n",
    "test_neighbor = ttime.drop('Total',1).drop_duplicates().set_index('user_id')\n",
    "tree = KDTree(train_neighbor.values, leaf_size=80)\n",
    "dist, ind = tree.query(test_neighbor, k = 20)"
   ]
  },
  {
   "cell_type": "code",
   "execution_count": 36,
   "metadata": {},
   "outputs": [],
   "source": [
    "#-----------------------------------------------\n",
    "# IMPLICIT COLLABORATIVE FILTERING SYSTEM\n",
    "#-----------------------------------------------\n",
    "\n",
    "# FIND SIMILAR ARTISTS\n",
    "\n",
    "def similar_artists_func(artist, N = 10): \n",
    "    testartist = data.artistcatcode.loc[data.artists_name == artist].iloc[0]\n",
    "\n",
    "    # Use implicit to get similar items.\n",
    "    similar = model_artist.similar_items(testartist, N)\n",
    "    \n",
    "    # Print the names of our most similar artists\n",
    "    print('{} similar artists to {}:\\n'.format(N, artist))\n",
    "    max_similarity = similar[0][1]\n",
    "    for i in range(N):\n",
    "        idx, score = similar[i]\n",
    "        percentage = (score / max_similarity) * 100\n",
    "        name = data.artists_name.loc[data.artistcatcode == idx].iloc[0]\n",
    "        print(i+1, name, \"- {:.2f}%\".format(percentage))\n",
    "\n",
    "# CREATE RECOMMENDATIONS FOR USER\n",
    "       \n",
    "def cf_recsys(user_id, N = 15):\n",
    "    testuser = data.usercatcode.loc[data.user_id == user_id].iloc[0]\n",
    "    recommended = model_artist.recommend(testuser, sparse_user_artist, N)\n",
    "    recommendation = dict()\n",
    "    for idx, score in recommended:\n",
    "        aname = data.artists_name.loc[data.artistcatcode == idx].iloc[0]\n",
    "        recommendation[aname] = score.round(3)\n",
    "    recommendation = sorted(recommendation.items(), key=lambda x: x[1], reverse=True)\n",
    "    return recommendation"
   ]
  },
  {
   "cell_type": "code",
   "execution_count": 7,
   "metadata": {},
   "outputs": [],
   "source": [
    "#------------------\n",
    "# HYBRID SYSTEMS\n",
    "#------------------\n",
    "\n",
    "def hybrid_recsys(user_id, N=15):\n",
    "        # Create recommendations for user with user_id 161262801\n",
    "    testuser = data.usercatcode.loc[data.user_id == user_id].iloc[0]\n",
    "        # Use the implicit recommender.\n",
    "    recommended = model_artist.recommend(testuser, sparse_user_artist, N)\n",
    "        # Get artist names from ids\n",
    "    recommendation = dict()\n",
    "    for idx, score in recommended:\n",
    "            #get artist name\n",
    "        aname = data.artists_name.loc[data.artistcatcode == idx].iloc[0]\n",
    "            #get gender bias weight for that artist\n",
    "        agender = data.artist_gender.loc[data.artistcatcode == idx].iloc[0]\n",
    "        ag_bias = artist_gender[agender].loc[artist_gender.user_id == user_id].iloc[0]\n",
    "            #get type bias weight for that artist\n",
    "        atype = data.artist_type.loc[data.artistcatcode == idx].iloc[0]\n",
    "        atype_bias = artist_type[atype].loc[artist_type.user_id == user_id].iloc[0]\n",
    "            #update the final score\n",
    "        fscore = score*(1 + ag_bias + atype_bias)\n",
    "            #append results to lists\n",
    "        recommendation[aname] = fscore.round(3)\n",
    "            #print out the results\n",
    "    recommendation = sorted(recommendation.items(), key=lambda x: x[1], reverse=True)[:N]\n",
    "    return recommendation"
   ]
  },
  {
   "cell_type": "code",
   "execution_count": 8,
   "metadata": {},
   "outputs": [],
   "source": [
    "#--------------------------\n",
    "# CONTEXT-AWARE SYSTEMS\n",
    "#--------------------------\n",
    "def context_recsys(user_id, N=15):\n",
    "        #build neighborlist\n",
    "    ix = test_neighbor.index.get_loc(user_id)\n",
    "    n_id = test_neighbor.index[ind[ix]].values\n",
    "    sim_score = 1 - dist[ix]\n",
    "    neighborlist = list(zip(n_id, sim_score))\n",
    "        #build recommendation for each neighbor\n",
    "    recommendation = dict()\n",
    "    a_counter = dict()\n",
    "    for neighbor, sim in neighborlist:\n",
    "        hybrid = hybrid_recsys(neighbor)\n",
    "        for artist, score in hybrid: \n",
    "            if neighbor == user_id: \n",
    "                fscore = score * 3\n",
    "            else: \n",
    "                fscore = score * (1 + sim)\n",
    "            if artist in recommendation.keys():\n",
    "                a_counter[artist] =+ 1\n",
    "                recommendation[artist] = max(recommendation[artist], fscore)\n",
    "            else: \n",
    "                a_counter[artist] = 1\n",
    "                recommendation[artist] = fscore.round(3)\n",
    "    for artist in recommendation.keys(): \n",
    "        recommendation[artist] = recommendation[artist] + math.log(a_counter[artist])\n",
    "    recommendation = sorted(recommendation.items(), key=lambda x: x[1], reverse=True)[:N]\n",
    "    return recommendation "
   ]
  },
  {
   "cell_type": "code",
   "execution_count": 9,
   "metadata": {},
   "outputs": [],
   "source": [
    "#------------------\n",
    "# EVALUATION\n",
    "#------------------\n",
    "def measure(user, system):\n",
    "    recommend_artist = [i[0] for i in system(user)]\n",
    "    real_artist = set(data[data['user_id'] == user]['artists_name'])\n",
    "    match = real_artist.intersection(recommend_artist)\n",
    "    precision = len(match)/len(recommend_artist) \n",
    "    recall = len(match)/len(real_artist)\n",
    "    if precision + recall == 0:\n",
    "        f1_score = 0\n",
    "    else:\n",
    "        f1_score = 2 * (precision * recall) / (precision + recall)\n",
    "    return [precision, recall, f1_score]\n",
    "\n",
    "def evaluate(user):\n",
    "    d = dict()\n",
    "    d['user_id'] = user\n",
    "    d['CF System'] = measure(user, cf_recsys)\n",
    "    d['Hybrid System'] = measure(user, hybrid_recsys)\n",
    "    d['Context System'] = measure(user, context_recsys)\n",
    "    return d"
   ]
  },
  {
   "cell_type": "code",
   "execution_count": 18,
   "metadata": {},
   "outputs": [],
   "source": [
    "for u in train.user_id.unique():\n",
    "    if len(train[train.user_id == u].artist_id) >= 15:\n",
    "        res.append(evaluate(u))"
   ]
  },
  {
   "cell_type": "code",
   "execution_count": 19,
   "metadata": {},
   "outputs": [],
   "source": [
    "f_context =[]\n",
    "f_hybrid = []\n",
    "f_cf = []\n",
    "p_context = []\n",
    "p_hybrid = []\n",
    "p_cf = []\n",
    "r_context = []\n",
    "r_hybrid = []\n",
    "r_cf = []\n",
    "for item in res:\n",
    "    p_cf.append(item['CF System'][0])\n",
    "    p_hybrid.append(item['Hybrid System'][0])\n",
    "    p_context.append(item['Context System'][0])\n",
    "    r_cf.append(item['CF System'][1])\n",
    "    r_hybrid.append(item['Hybrid System'][1])\n",
    "    r_context.append(item['Context System'][1])\n",
    "    f_cf.append(item['CF System'][2])\n",
    "    f_hybrid.append(item['Hybrid System'][2])\n",
    "    f_context.append(item['Context System'][2])"
   ]
  },
  {
   "cell_type": "code",
   "execution_count": 20,
   "metadata": {},
   "outputs": [],
   "source": [
    "reslst = [p_cf, p_hybrid, p_context, r_cf, r_hybrid, r_context, f_cf, f_hybrid, f_context]\n",
    "finalresult = {}\n",
    "finalresult['Precision'] = [mean(p_cf), mean(p_hybrid), mean(p_context)]\n",
    "finalresult['Recall'] = [mean(r_cf), mean(r_hybrid), mean(r_context)]\n",
    "finalresult['F-measure'] = [mean(f_cf), mean(f_hybrid), mean(f_context)]\n",
    "finalresult = pd.DataFrame.from_dict(finalresult, orient='index')\n",
    "finalresult.columns=['CF System', 'Hybrid System', 'Context System']"
   ]
  },
  {
   "cell_type": "code",
   "execution_count": 21,
   "metadata": {},
   "outputs": [
    {
     "data": {
      "text/html": [
       "<div>\n",
       "<style scoped>\n",
       "    .dataframe tbody tr th:only-of-type {\n",
       "        vertical-align: middle;\n",
       "    }\n",
       "\n",
       "    .dataframe tbody tr th {\n",
       "        vertical-align: top;\n",
       "    }\n",
       "\n",
       "    .dataframe thead th {\n",
       "        text-align: right;\n",
       "    }\n",
       "</style>\n",
       "<table border=\"1\" class=\"dataframe\">\n",
       "  <thead>\n",
       "    <tr style=\"text-align: right;\">\n",
       "      <th></th>\n",
       "      <th>CF System</th>\n",
       "      <th>Hybrid System</th>\n",
       "      <th>Context System</th>\n",
       "    </tr>\n",
       "  </thead>\n",
       "  <tbody>\n",
       "    <tr>\n",
       "      <th>Precision</th>\n",
       "      <td>0.003163</td>\n",
       "      <td>0.003163</td>\n",
       "      <td>0.106881</td>\n",
       "    </tr>\n",
       "    <tr>\n",
       "      <th>Recall</th>\n",
       "      <td>0.001887</td>\n",
       "      <td>0.001887</td>\n",
       "      <td>0.060400</td>\n",
       "    </tr>\n",
       "    <tr>\n",
       "      <th>F-measure</th>\n",
       "      <td>0.002242</td>\n",
       "      <td>0.002242</td>\n",
       "      <td>0.071867</td>\n",
       "    </tr>\n",
       "  </tbody>\n",
       "</table>\n",
       "</div>"
      ],
      "text/plain": [
       "           CF System  Hybrid System  Context System\n",
       "Precision   0.003163       0.003163        0.106881\n",
       "Recall      0.001887       0.001887        0.060400\n",
       "F-measure   0.002242       0.002242        0.071867"
      ]
     },
     "execution_count": 21,
     "metadata": {},
     "output_type": "execute_result"
    }
   ],
   "source": [
    "finalresult"
   ]
  },
  {
   "cell_type": "code",
   "execution_count": 40,
   "metadata": {},
   "outputs": [
    {
     "name": "stdout",
     "output_type": "stream",
     "text": [
      "15 similar artists to Katy Perry:\n",
      "\n",
      "1 Katy Perry - 100.00%\n",
      "2 Tsukasa - 96.65%\n",
      "3 Juliette Lewis - 95.92%\n",
      "4 Mikroboy - 95.92%\n",
      "5 Gene Kelly - 95.92%\n",
      "6 Super Danger Casper - 95.84%\n",
      "7 Jahanam - 89.88%\n",
      "8 Deutschland sucht den Superstar - 88.80%\n",
      "9 Keremcem - 80.83%\n",
      "10 Esmeray - 77.00%\n",
      "11 Simone - 73.45%\n",
      "12 Milton Banana Trio - 72.11%\n",
      "13 Jessie J - 71.95%\n",
      "14 Annie Little - 71.89%\n",
      "15 Frank Joshua - 70.78%\n"
     ]
    }
   ],
   "source": [
    "similar_artists_func('Katy Perry', 15)"
   ]
  }
 ],
 "metadata": {
  "celltoolbar": "Raw Cell Format",
  "kernelspec": {
   "display_name": "Python 3",
   "language": "python",
   "name": "python3"
  },
  "language_info": {
   "codemirror_mode": {
    "name": "ipython",
    "version": 3
   },
   "file_extension": ".py",
   "mimetype": "text/x-python",
   "name": "python",
   "nbconvert_exporter": "python",
   "pygments_lexer": "ipython3",
   "version": "3.7.1"
  }
 },
 "nbformat": 4,
 "nbformat_minor": 2
}
